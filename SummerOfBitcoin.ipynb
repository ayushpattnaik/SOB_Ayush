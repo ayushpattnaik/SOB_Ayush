{
  "nbformat": 4,
  "nbformat_minor": 0,
  "metadata": {
    "colab": {
      "name": "SummerOfBitcoin.ipynb",
      "provenance": [],
      "authorship_tag": "ABX9TyMRPTXcMq6lCE5GsnwFcyXM",
      "include_colab_link": true
    },
    "kernelspec": {
      "display_name": "Python 3",
      "name": "python3"
    },
    "language_info": {
      "name": "python"
    }
  },
  "cells": [
    {
      "cell_type": "markdown",
      "metadata": {
        "id": "view-in-github",
        "colab_type": "text"
      },
      "source": [
        "<a href=\"https://colab.research.google.com/github/ayushpattnaik/SOB_Ayush/blob/main/SummerOfBitcoin.ipynb\" target=\"_parent\"><img src=\"https://colab.research.google.com/assets/colab-badge.svg\" alt=\"Open In Colab\"/></a>"
      ]
    },
    {
      "cell_type": "markdown",
      "metadata": {
        "id": "EzwNIkXd0WlR"
      },
      "source": [
        "### Uploading the mempool csv file"
      ]
    },
    {
      "cell_type": "code",
      "metadata": {
        "id": "Xdz_gMxvT5DN"
      },
      "source": [
        "import csv\n"
      ],
      "execution_count": null,
      "outputs": []
    },
    {
      "cell_type": "code",
      "metadata": {
        "colab": {
          "resources": {
            "http://localhost:8080/nbextensions/google.colab/files.js": {
              "data": "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",
              "ok": true,
              "headers": [
                [
                  "content-type",
                  "application/javascript"
                ]
              ],
              "status": 200,
              "status_text": ""
            }
          },
          "base_uri": "https://localhost:8080/",
          "height": 72
        },
        "id": "uTlIysgxgrV4",
        "outputId": "6ce2d819-2714-4a13-a976-d3f6fd676045"
      },
      "source": [
        "from google.colab import files\n",
        "uploaded=files.upload()"
      ],
      "execution_count": null,
      "outputs": [
        {
          "output_type": "display_data",
          "data": {
            "text/html": [
              "\n",
              "     <input type=\"file\" id=\"files-ab3b313c-5687-4dc5-897e-fe0f470cfb9f\" name=\"files[]\" multiple disabled\n",
              "        style=\"border:none\" />\n",
              "     <output id=\"result-ab3b313c-5687-4dc5-897e-fe0f470cfb9f\">\n",
              "      Upload widget is only available when the cell has been executed in the\n",
              "      current browser session. Please rerun this cell to enable.\n",
              "      </output>\n",
              "      <script src=\"/nbextensions/google.colab/files.js\"></script> "
            ],
            "text/plain": [
              "<IPython.core.display.HTML object>"
            ]
          },
          "metadata": {
            "tags": []
          }
        },
        {
          "output_type": "stream",
          "text": [
            "Saving mempool.csv to mempool.csv\n"
          ],
          "name": "stdout"
        }
      ]
    },
    {
      "cell_type": "markdown",
      "metadata": {
        "id": "Xr0mDLw23BJo"
      },
      "source": [
        "### Reading mempool.csv to dataframe df"
      ]
    },
    {
      "cell_type": "code",
      "metadata": {
        "id": "RWjVZvO4UgVF"
      },
      "source": [
        "import pandas as pd\n",
        "import io\n",
        "df=pd.read_csv(io.BytesIO(uploaded['mempool.csv']))"
      ],
      "execution_count": null,
      "outputs": []
    },
    {
      "cell_type": "code",
      "metadata": {
        "id": "wipLQqwcV1h7",
        "colab": {
          "base_uri": "https://localhost:8080/",
          "height": 419
        },
        "outputId": "8b6fa5b0-2e5c-4c74-dc73-c0f245d887e6"
      },
      "source": [
        "df"
      ],
      "execution_count": null,
      "outputs": [
        {
          "output_type": "execute_result",
          "data": {
            "text/html": [
              "<div>\n",
              "<style scoped>\n",
              "    .dataframe tbody tr th:only-of-type {\n",
              "        vertical-align: middle;\n",
              "    }\n",
              "\n",
              "    .dataframe tbody tr th {\n",
              "        vertical-align: top;\n",
              "    }\n",
              "\n",
              "    .dataframe thead th {\n",
              "        text-align: right;\n",
              "    }\n",
              "</style>\n",
              "<table border=\"1\" class=\"dataframe\">\n",
              "  <thead>\n",
              "    <tr style=\"text-align: right;\">\n",
              "      <th></th>\n",
              "      <th>tx_id</th>\n",
              "      <th>fee</th>\n",
              "      <th>weight</th>\n",
              "      <th>parents</th>\n",
              "    </tr>\n",
              "  </thead>\n",
              "  <tbody>\n",
              "    <tr>\n",
              "      <th>0</th>\n",
              "      <td>2e3da8fbc1eaca8ed9b7c2db9e6545d8ccac3c67deadee...</td>\n",
              "      <td>452</td>\n",
              "      <td>1620</td>\n",
              "      <td>NaN</td>\n",
              "    </tr>\n",
              "    <tr>\n",
              "      <th>1</th>\n",
              "      <td>79c51c9d4124c5cbb37a85263748dcf44e182dff83561f...</td>\n",
              "      <td>682</td>\n",
              "      <td>1136</td>\n",
              "      <td>6eb38fad135e38a93cb47a15a5f953cbc0563fd84bf1ab...</td>\n",
              "    </tr>\n",
              "    <tr>\n",
              "      <th>2</th>\n",
              "      <td>b0ef627c8dc2a706475d33d7712209ec779f7a8302aaea...</td>\n",
              "      <td>226</td>\n",
              "      <td>900</td>\n",
              "      <td>NaN</td>\n",
              "    </tr>\n",
              "    <tr>\n",
              "      <th>3</th>\n",
              "      <td>8c25f9be93990b96e8bc363778d6debee6867c7d73cefa...</td>\n",
              "      <td>258</td>\n",
              "      <td>1032</td>\n",
              "      <td>NaN</td>\n",
              "    </tr>\n",
              "    <tr>\n",
              "      <th>4</th>\n",
              "      <td>edc82751537be6afcb21c0229d8d20916d8e742a363ab2...</td>\n",
              "      <td>452</td>\n",
              "      <td>1616</td>\n",
              "      <td>NaN</td>\n",
              "    </tr>\n",
              "    <tr>\n",
              "      <th>...</th>\n",
              "      <td>...</td>\n",
              "      <td>...</td>\n",
              "      <td>...</td>\n",
              "      <td>...</td>\n",
              "    </tr>\n",
              "    <tr>\n",
              "      <th>5209</th>\n",
              "      <td>e0b5d2fe598fccdd716df743323346da227dfc9d2a6c3e...</td>\n",
              "      <td>850</td>\n",
              "      <td>568</td>\n",
              "      <td>NaN</td>\n",
              "    </tr>\n",
              "    <tr>\n",
              "      <th>5210</th>\n",
              "      <td>e33973618a9774aeb85548368efeaddb206ef206717e72...</td>\n",
              "      <td>1496</td>\n",
              "      <td>1488</td>\n",
              "      <td>NaN</td>\n",
              "    </tr>\n",
              "    <tr>\n",
              "      <th>5211</th>\n",
              "      <td>88a8c7118ac82199523eb10670f49c8b7f5ac82d404907...</td>\n",
              "      <td>1121</td>\n",
              "      <td>900</td>\n",
              "      <td>33c7c7bcb1cc07743fc3240cac6af31e4d4a8f535cae71...</td>\n",
              "    </tr>\n",
              "    <tr>\n",
              "      <th>5212</th>\n",
              "      <td>4c5b18c0870665958fc2a377e425b70f8d01f03395af72...</td>\n",
              "      <td>862</td>\n",
              "      <td>576</td>\n",
              "      <td>NaN</td>\n",
              "    </tr>\n",
              "    <tr>\n",
              "      <th>5213</th>\n",
              "      <td>631dee801c00241fc61bccc56112cf7670ce7150f4c642...</td>\n",
              "      <td>850</td>\n",
              "      <td>568</td>\n",
              "      <td>NaN</td>\n",
              "    </tr>\n",
              "  </tbody>\n",
              "</table>\n",
              "<p>5214 rows × 4 columns</p>\n",
              "</div>"
            ],
            "text/plain": [
              "                                                  tx_id  ...                                           parents \n",
              "0     2e3da8fbc1eaca8ed9b7c2db9e6545d8ccac3c67deadee...  ...                                                NaN\n",
              "1     79c51c9d4124c5cbb37a85263748dcf44e182dff83561f...  ...  6eb38fad135e38a93cb47a15a5f953cbc0563fd84bf1ab...\n",
              "2     b0ef627c8dc2a706475d33d7712209ec779f7a8302aaea...  ...                                                NaN\n",
              "3     8c25f9be93990b96e8bc363778d6debee6867c7d73cefa...  ...                                                NaN\n",
              "4     edc82751537be6afcb21c0229d8d20916d8e742a363ab2...  ...                                                NaN\n",
              "...                                                 ...  ...                                                ...\n",
              "5209  e0b5d2fe598fccdd716df743323346da227dfc9d2a6c3e...  ...                                                NaN\n",
              "5210  e33973618a9774aeb85548368efeaddb206ef206717e72...  ...                                                NaN\n",
              "5211  88a8c7118ac82199523eb10670f49c8b7f5ac82d404907...  ...  33c7c7bcb1cc07743fc3240cac6af31e4d4a8f535cae71...\n",
              "5212  4c5b18c0870665958fc2a377e425b70f8d01f03395af72...  ...                                                NaN\n",
              "5213  631dee801c00241fc61bccc56112cf7670ce7150f4c642...  ...                                                NaN\n",
              "\n",
              "[5214 rows x 4 columns]"
            ]
          },
          "metadata": {
            "tags": []
          },
          "execution_count": 13
        }
      ]
    },
    {
      "cell_type": "code",
      "metadata": {
        "id": "FY-lXrfYxnpQ",
        "colab": {
          "base_uri": "https://localhost:8080/"
        },
        "outputId": "3a43f9af-1020-4f64-d42a-34b4ed3e4776"
      },
      "source": [
        "df['weight'].sum()"
      ],
      "execution_count": null,
      "outputs": [
        {
          "output_type": "execute_result",
          "data": {
            "text/plain": [
              "10431600"
            ]
          },
          "metadata": {
            "tags": []
          },
          "execution_count": 14
        }
      ]
    },
    {
      "cell_type": "markdown",
      "metadata": {
        "id": "pDoDY9X-eKZM"
      },
      "source": [
        "### Sorting the dataframe according to fee for maximizing the fees"
      ]
    },
    {
      "cell_type": "code",
      "metadata": {
        "id": "MMONpQ9yUYAG"
      },
      "source": [
        "df2=df.sort_values(by=['fee'],ascending=False)"
      ],
      "execution_count": null,
      "outputs": []
    },
    {
      "cell_type": "code",
      "metadata": {
        "id": "qsgFQXudWG6o",
        "colab": {
          "base_uri": "https://localhost:8080/",
          "height": 419
        },
        "outputId": "5a93cc87-097d-4d65-bc5a-f3277ffee9a5"
      },
      "source": [
        "df2"
      ],
      "execution_count": null,
      "outputs": [
        {
          "output_type": "execute_result",
          "data": {
            "text/html": [
              "<div>\n",
              "<style scoped>\n",
              "    .dataframe tbody tr th:only-of-type {\n",
              "        vertical-align: middle;\n",
              "    }\n",
              "\n",
              "    .dataframe tbody tr th {\n",
              "        vertical-align: top;\n",
              "    }\n",
              "\n",
              "    .dataframe thead th {\n",
              "        text-align: right;\n",
              "    }\n",
              "</style>\n",
              "<table border=\"1\" class=\"dataframe\">\n",
              "  <thead>\n",
              "    <tr style=\"text-align: right;\">\n",
              "      <th></th>\n",
              "      <th>tx_id</th>\n",
              "      <th>fee</th>\n",
              "      <th>weight</th>\n",
              "      <th>parents</th>\n",
              "    </tr>\n",
              "  </thead>\n",
              "  <tbody>\n",
              "    <tr>\n",
              "      <th>2660</th>\n",
              "      <td>59f0495cf66d1864359dda816eb7189b9d9a3a9cd9dc50...</td>\n",
              "      <td>201700</td>\n",
              "      <td>1348</td>\n",
              "      <td>NaN</td>\n",
              "    </tr>\n",
              "    <tr>\n",
              "      <th>4693</th>\n",
              "      <td>3bfc4c22fc7aaded4b02c6a6d67b4a7bad297377e46e4c...</td>\n",
              "      <td>194166</td>\n",
              "      <td>3852</td>\n",
              "      <td>NaN</td>\n",
              "    </tr>\n",
              "    <tr>\n",
              "      <th>4877</th>\n",
              "      <td>87784075804f10dad1f815de867dde2875e73a13da798c...</td>\n",
              "      <td>107775</td>\n",
              "      <td>1660</td>\n",
              "      <td>NaN</td>\n",
              "    </tr>\n",
              "    <tr>\n",
              "      <th>4908</th>\n",
              "      <td>0c8ebf9c75f63b7e5ff176e2937f24c694aa6b3bde0e59...</td>\n",
              "      <td>104400</td>\n",
              "      <td>2084</td>\n",
              "      <td>NaN</td>\n",
              "    </tr>\n",
              "    <tr>\n",
              "      <th>5095</th>\n",
              "      <td>c3fef085fca34891e6456489d840ab68139b24857eb1f9...</td>\n",
              "      <td>100000</td>\n",
              "      <td>1148</td>\n",
              "      <td>NaN</td>\n",
              "    </tr>\n",
              "    <tr>\n",
              "      <th>...</th>\n",
              "      <td>...</td>\n",
              "      <td>...</td>\n",
              "      <td>...</td>\n",
              "      <td>...</td>\n",
              "    </tr>\n",
              "    <tr>\n",
              "      <th>816</th>\n",
              "      <td>dbf57df85f4292e2211439f44974f3d99df18fbbe30f05...</td>\n",
              "      <td>114</td>\n",
              "      <td>452</td>\n",
              "      <td>NaN</td>\n",
              "    </tr>\n",
              "    <tr>\n",
              "      <th>883</th>\n",
              "      <td>67d2b9c9c9755ecd55d7528f576845eb2f3d982b25c23f...</td>\n",
              "      <td>111</td>\n",
              "      <td>444</td>\n",
              "      <td>NaN</td>\n",
              "    </tr>\n",
              "    <tr>\n",
              "      <th>1664</th>\n",
              "      <td>89fa28f476f4f7fea0ffd3d8e687a1bf94e1ed96cb357d...</td>\n",
              "      <td>111</td>\n",
              "      <td>440</td>\n",
              "      <td>NaN</td>\n",
              "    </tr>\n",
              "    <tr>\n",
              "      <th>1662</th>\n",
              "      <td>62e84b510b0d3e05725d2e626709cee88b9d5f78956656...</td>\n",
              "      <td>111</td>\n",
              "      <td>440</td>\n",
              "      <td>NaN</td>\n",
              "    </tr>\n",
              "    <tr>\n",
              "      <th>1603</th>\n",
              "      <td>40f0adf2aa2c6ec6884639c547ae304f6f8d44d09e6fe5...</td>\n",
              "      <td>110</td>\n",
              "      <td>440</td>\n",
              "      <td>NaN</td>\n",
              "    </tr>\n",
              "  </tbody>\n",
              "</table>\n",
              "<p>5214 rows × 4 columns</p>\n",
              "</div>"
            ],
            "text/plain": [
              "                                                  tx_id  ...  parents \n",
              "2660  59f0495cf66d1864359dda816eb7189b9d9a3a9cd9dc50...  ...       NaN\n",
              "4693  3bfc4c22fc7aaded4b02c6a6d67b4a7bad297377e46e4c...  ...       NaN\n",
              "4877  87784075804f10dad1f815de867dde2875e73a13da798c...  ...       NaN\n",
              "4908  0c8ebf9c75f63b7e5ff176e2937f24c694aa6b3bde0e59...  ...       NaN\n",
              "5095  c3fef085fca34891e6456489d840ab68139b24857eb1f9...  ...       NaN\n",
              "...                                                 ...  ...       ...\n",
              "816   dbf57df85f4292e2211439f44974f3d99df18fbbe30f05...  ...       NaN\n",
              "883   67d2b9c9c9755ecd55d7528f576845eb2f3d982b25c23f...  ...       NaN\n",
              "1664  89fa28f476f4f7fea0ffd3d8e687a1bf94e1ed96cb357d...  ...       NaN\n",
              "1662  62e84b510b0d3e05725d2e626709cee88b9d5f78956656...  ...       NaN\n",
              "1603  40f0adf2aa2c6ec6884639c547ae304f6f8d44d09e6fe5...  ...       NaN\n",
              "\n",
              "[5214 rows x 4 columns]"
            ]
          },
          "metadata": {
            "tags": []
          },
          "execution_count": 16
        }
      ]
    },
    {
      "cell_type": "markdown",
      "metadata": {
        "id": "btT5cLkjeb7k"
      },
      "source": [
        "### Finding the index where the maximum weight of the block is achieved"
      ]
    },
    {
      "cell_type": "code",
      "metadata": {
        "id": "BGHS81ZDY6Yp"
      },
      "source": [
        "last_index=pd.Index(df2.weight.cumsum()).get_loc(4000000,'nearest')"
      ],
      "execution_count": null,
      "outputs": []
    },
    {
      "cell_type": "code",
      "metadata": {
        "id": "vaQYRCPGgQ0y",
        "colab": {
          "base_uri": "https://localhost:8080/"
        },
        "outputId": "fdbe53a4-88d8-43ac-aa24-9e5e73a73513"
      },
      "source": [
        "last_index"
      ],
      "execution_count": null,
      "outputs": [
        {
          "output_type": "execute_result",
          "data": {
            "text/plain": [
              "150"
            ]
          },
          "metadata": {
            "tags": []
          },
          "execution_count": 18
        }
      ]
    },
    {
      "cell_type": "code",
      "metadata": {
        "id": "YsD_WoeQgG2Q",
        "colab": {
          "base_uri": "https://localhost:8080/",
          "height": 80
        },
        "outputId": "eb07018d-5561-457e-ff1a-672dd4baa0f9"
      },
      "source": [
        "df2.loc[[last_index]]"
      ],
      "execution_count": null,
      "outputs": [
        {
          "output_type": "execute_result",
          "data": {
            "text/html": [
              "<div>\n",
              "<style scoped>\n",
              "    .dataframe tbody tr th:only-of-type {\n",
              "        vertical-align: middle;\n",
              "    }\n",
              "\n",
              "    .dataframe tbody tr th {\n",
              "        vertical-align: top;\n",
              "    }\n",
              "\n",
              "    .dataframe thead th {\n",
              "        text-align: right;\n",
              "    }\n",
              "</style>\n",
              "<table border=\"1\" class=\"dataframe\">\n",
              "  <thead>\n",
              "    <tr style=\"text-align: right;\">\n",
              "      <th></th>\n",
              "      <th>tx_id</th>\n",
              "      <th>fee</th>\n",
              "      <th>weight</th>\n",
              "      <th>parents</th>\n",
              "    </tr>\n",
              "  </thead>\n",
              "  <tbody>\n",
              "    <tr>\n",
              "      <th>150</th>\n",
              "      <td>f39b102a3349a6de9b80950f4d731e9bc0b349d6dc8a10...</td>\n",
              "      <td>452</td>\n",
              "      <td>1612</td>\n",
              "      <td>8580ab895e5085eefd7e9e9016d017f9bdf8b64bba425c...</td>\n",
              "    </tr>\n",
              "  </tbody>\n",
              "</table>\n",
              "</div>"
            ],
            "text/plain": [
              "                                                 tx_id  ...                                           parents \n",
              "150  f39b102a3349a6de9b80950f4d731e9bc0b349d6dc8a10...  ...  8580ab895e5085eefd7e9e9016d017f9bdf8b64bba425c...\n",
              "\n",
              "[1 rows x 4 columns]"
            ]
          },
          "metadata": {
            "tags": []
          },
          "execution_count": 19
        }
      ]
    },
    {
      "cell_type": "markdown",
      "metadata": {
        "id": "VhSH-TXye-U9"
      },
      "source": [
        "### Loading the dataframe with maximum fee and maximum weight capacity "
      ]
    },
    {
      "cell_type": "code",
      "metadata": {
        "id": "An6uPnKFmff2"
      },
      "source": [
        "df3=df2.iloc[0:last_index,[0]]"
      ],
      "execution_count": null,
      "outputs": []
    },
    {
      "cell_type": "code",
      "metadata": {
        "colab": {
          "base_uri": "https://localhost:8080/",
          "height": 419
        },
        "id": "cmGJvyEClEBi",
        "outputId": "0ba15886-9211-4a4f-94e8-8f5973d2a4ec"
      },
      "source": [
        "df3"
      ],
      "execution_count": null,
      "outputs": [
        {
          "output_type": "execute_result",
          "data": {
            "text/html": [
              "<div>\n",
              "<style scoped>\n",
              "    .dataframe tbody tr th:only-of-type {\n",
              "        vertical-align: middle;\n",
              "    }\n",
              "\n",
              "    .dataframe tbody tr th {\n",
              "        vertical-align: top;\n",
              "    }\n",
              "\n",
              "    .dataframe thead th {\n",
              "        text-align: right;\n",
              "    }\n",
              "</style>\n",
              "<table border=\"1\" class=\"dataframe\">\n",
              "  <thead>\n",
              "    <tr style=\"text-align: right;\">\n",
              "      <th></th>\n",
              "      <th>tx_id</th>\n",
              "    </tr>\n",
              "  </thead>\n",
              "  <tbody>\n",
              "    <tr>\n",
              "      <th>2660</th>\n",
              "      <td>59f0495cf66d1864359dda816eb7189b9d9a3a9cd9dc50...</td>\n",
              "    </tr>\n",
              "    <tr>\n",
              "      <th>4693</th>\n",
              "      <td>3bfc4c22fc7aaded4b02c6a6d67b4a7bad297377e46e4c...</td>\n",
              "    </tr>\n",
              "    <tr>\n",
              "      <th>4877</th>\n",
              "      <td>87784075804f10dad1f815de867dde2875e73a13da798c...</td>\n",
              "    </tr>\n",
              "    <tr>\n",
              "      <th>4908</th>\n",
              "      <td>0c8ebf9c75f63b7e5ff176e2937f24c694aa6b3bde0e59...</td>\n",
              "    </tr>\n",
              "    <tr>\n",
              "      <th>5095</th>\n",
              "      <td>c3fef085fca34891e6456489d840ab68139b24857eb1f9...</td>\n",
              "    </tr>\n",
              "    <tr>\n",
              "      <th>...</th>\n",
              "      <td>...</td>\n",
              "    </tr>\n",
              "    <tr>\n",
              "      <th>1051</th>\n",
              "      <td>12bfaccecfd4355bde2e4073015624a131d23a33e30160...</td>\n",
              "    </tr>\n",
              "    <tr>\n",
              "      <th>917</th>\n",
              "      <td>573bd82b65d312ac1f0ff5e502937200963e87467a954e...</td>\n",
              "    </tr>\n",
              "    <tr>\n",
              "      <th>782</th>\n",
              "      <td>82ae3ab0db20ff81110dc62e4d4b943197f44e364ecd2a...</td>\n",
              "    </tr>\n",
              "    <tr>\n",
              "      <th>2353</th>\n",
              "      <td>cbacf7645d5e443210bcfb16dee9ea76c60cd66c3f7b3f...</td>\n",
              "    </tr>\n",
              "    <tr>\n",
              "      <th>1152</th>\n",
              "      <td>38aca0b104ac68346baac53c6190929c62632d94d9fa28...</td>\n",
              "    </tr>\n",
              "  </tbody>\n",
              "</table>\n",
              "<p>150 rows × 1 columns</p>\n",
              "</div>"
            ],
            "text/plain": [
              "                                                  tx_id\n",
              "2660  59f0495cf66d1864359dda816eb7189b9d9a3a9cd9dc50...\n",
              "4693  3bfc4c22fc7aaded4b02c6a6d67b4a7bad297377e46e4c...\n",
              "4877  87784075804f10dad1f815de867dde2875e73a13da798c...\n",
              "4908  0c8ebf9c75f63b7e5ff176e2937f24c694aa6b3bde0e59...\n",
              "5095  c3fef085fca34891e6456489d840ab68139b24857eb1f9...\n",
              "...                                                 ...\n",
              "1051  12bfaccecfd4355bde2e4073015624a131d23a33e30160...\n",
              "917   573bd82b65d312ac1f0ff5e502937200963e87467a954e...\n",
              "782   82ae3ab0db20ff81110dc62e4d4b943197f44e364ecd2a...\n",
              "2353  cbacf7645d5e443210bcfb16dee9ea76c60cd66c3f7b3f...\n",
              "1152  38aca0b104ac68346baac53c6190929c62632d94d9fa28...\n",
              "\n",
              "[150 rows x 1 columns]"
            ]
          },
          "metadata": {
            "tags": []
          },
          "execution_count": 58
        }
      ]
    },
    {
      "cell_type": "code",
      "metadata": {
        "id": "5g3iXBvjfS4x"
      },
      "source": [
        "df3.to_csv('block.txt')"
      ],
      "execution_count": null,
      "outputs": []
    },
    {
      "cell_type": "markdown",
      "metadata": {
        "id": "KYj_G4aMevNJ"
      },
      "source": [
        "### Alogrithm for sorting the parent_txids"
      ]
    },
    {
      "cell_type": "markdown",
      "metadata": {
        "id": "JJ3V6tCCzV4F"
      },
      "source": [
        "I wrote this algorithm because I am not much familiar with python csv handling.\n",
        "\n",
        "**The Algorithm:**\n",
        "\n",
        "For every tx_id (say **curr_index**) in dataframe d3 with valid parent txids: \n",
        "- Check if all its parent txids already exist before the **curr_index** tx_id.\n",
        "  1. If the parent_txids occur after the **curr_index** within the dataframe then move the parent_txids before the **curr_index**.\n",
        "\n",
        "  2. If the parent_txid doesn't occur within the list, extract the first index from the sorted dataframe d2 after \n",
        "the **last_index** which is **last_index+1**\n",
        "   >  Check if the tx_id of **last_index+1** is a parent txid of **curr_index** tx_id. \n",
        "     - If yes, append the **last_index+1**  before the curr_index and pop the **last_index** from the list.\n",
        "     - If not, find the next index(**say x**) of the parent tx_id occuring after **last_index+1**  and  find the sum(**say sum1**) of the fees of the **curr_index**  and index **x** and the sum(**say sum2**) of the fees of **last_index+1**  and **last_index**. <br>\n",
        "       ```sum1=fee[x]+fee[curr_index]```<br>\n",
        "       ```sum2=fee[last_index]+fee[last_index+1]```<br>\n",
        "      **If sum1>sum2:**<br>\n",
        "            Append the index(x) before the curr_index and delete the last_index from the list.\n",
        "      **Else If sum1<sum2:**\n",
        "            Delete the curr_index and append the last_index+1 to the list.\n",
        "\n",
        "  3. Repeat the process 1 and 2 for every parent_txid of curr_index\n",
        "\n",
        "        \n"
      ]
    }
  ]
}